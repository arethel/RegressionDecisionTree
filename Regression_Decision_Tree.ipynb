{
  "nbformat": 4,
  "nbformat_minor": 0,
  "metadata": {
    "colab": {
      "provenance": [],
      "authorship_tag": "ABX9TyOLrX7xm1PMpzWIy6lBtYyh",
      "include_colab_link": true
    },
    "kernelspec": {
      "name": "python3",
      "display_name": "Python 3"
    },
    "language_info": {
      "name": "python"
    }
  },
  "cells": [
    {
      "cell_type": "markdown",
      "metadata": {
        "id": "view-in-github",
        "colab_type": "text"
      },
      "source": [
        "<a href=\"https://colab.research.google.com/github/arethel/RegressionDecisionTree/blob/main/Regression_Decision_Tree.ipynb\" target=\"_parent\"><img src=\"https://colab.research.google.com/assets/colab-badge.svg\" alt=\"Open In Colab\"/></a>"
      ]
    },
    {
      "cell_type": "code",
      "execution_count": 1,
      "metadata": {
        "id": "GtKTljbs9Clx"
      },
      "outputs": [],
      "source": [
        "import numpy as np\n",
        "import matplotlib.pyplot as plt\n",
        "import pandas as pd"
      ]
    },
    {
      "cell_type": "code",
      "source": [
        "dataset = np.array(\n",
        "[['Asset Flip', 100, 1000],\n",
        "['Text Based', 500, 3000],\n",
        "['Visual Novel', 1500, 5000],\n",
        "['2D Pixel Art', 3500, 8000],\n",
        "['2D Vector Art', 5000, 6500],\n",
        "['Strategy', 6000, 7000],\n",
        "['First Person Shooter', 8000, 15000],\n",
        "['Simulator', 9500, 20000],\n",
        "['Racing', 12000, 21000],\n",
        "['RPG', 14000, 25000],\n",
        "['Sandbox', 15500, 27000],\n",
        "['Open-World', 16500, 30000],\n",
        "['MMOFPS', 25000, 52000],\n",
        "['MMORPG', 30000, 80000]\n",
        "])\n",
        "print(dataset)\n"
      ],
      "metadata": {
        "colab": {
          "base_uri": "https://localhost:8080/"
        },
        "id": "2doZqCwP9zNz",
        "outputId": "ea3d5ec0-dcf0-40bd-d371-34d38ab1f105"
      },
      "execution_count": 2,
      "outputs": [
        {
          "output_type": "stream",
          "name": "stdout",
          "text": [
            "[['Asset Flip' '100' '1000']\n",
            " ['Text Based' '500' '3000']\n",
            " ['Visual Novel' '1500' '5000']\n",
            " ['2D Pixel Art' '3500' '8000']\n",
            " ['2D Vector Art' '5000' '6500']\n",
            " ['Strategy' '6000' '7000']\n",
            " ['First Person Shooter' '8000' '15000']\n",
            " ['Simulator' '9500' '20000']\n",
            " ['Racing' '12000' '21000']\n",
            " ['RPG' '14000' '25000']\n",
            " ['Sandbox' '15500' '27000']\n",
            " ['Open-World' '16500' '30000']\n",
            " ['MMOFPS' '25000' '52000']\n",
            " ['MMORPG' '30000' '80000']]\n"
          ]
        }
      ]
    },
    {
      "cell_type": "code",
      "source": [
        "X = dataset[:, 1:2].astype(int)\n",
        "print(X)"
      ],
      "metadata": {
        "colab": {
          "base_uri": "https://localhost:8080/"
        },
        "id": "_AACWayZ-Al4",
        "outputId": "0e3a5c58-bb99-494b-9cf9-97ecf49e330f"
      },
      "execution_count": 5,
      "outputs": [
        {
          "output_type": "stream",
          "name": "stdout",
          "text": [
            "[[  100]\n",
            " [  500]\n",
            " [ 1500]\n",
            " [ 3500]\n",
            " [ 5000]\n",
            " [ 6000]\n",
            " [ 8000]\n",
            " [ 9500]\n",
            " [12000]\n",
            " [14000]\n",
            " [15500]\n",
            " [16500]\n",
            " [25000]\n",
            " [30000]]\n"
          ]
        }
      ]
    },
    {
      "cell_type": "code",
      "source": [
        "y = dataset[:, 2].astype(int)\n",
        "print(y)"
      ],
      "metadata": {
        "colab": {
          "base_uri": "https://localhost:8080/"
        },
        "id": "4_MxCa8v-QEv",
        "outputId": "54559bb0-dd3c-43c2-a393-2c6e92623a4a"
      },
      "execution_count": 6,
      "outputs": [
        {
          "output_type": "stream",
          "name": "stdout",
          "text": [
            "[ 1000  3000  5000  8000  6500  7000 15000 20000 21000 25000 27000 30000\n",
            " 52000 80000]\n"
          ]
        }
      ]
    },
    {
      "cell_type": "code",
      "source": [
        "X_and_y = dataset[:, 1:3].astype(int)\n",
        "X_and_y"
      ],
      "metadata": {
        "colab": {
          "base_uri": "https://localhost:8080/"
        },
        "id": "xncl58PrDJLo",
        "outputId": "6eca4f36-694b-4865-c4a8-07eea0ff1ea2"
      },
      "execution_count": 9,
      "outputs": [
        {
          "output_type": "execute_result",
          "data": {
            "text/plain": [
              "array([[  100,  1000],\n",
              "       [  500,  3000],\n",
              "       [ 1500,  5000],\n",
              "       [ 3500,  8000],\n",
              "       [ 5000,  6500],\n",
              "       [ 6000,  7000],\n",
              "       [ 8000, 15000],\n",
              "       [ 9500, 20000],\n",
              "       [12000, 21000],\n",
              "       [14000, 25000],\n",
              "       [15500, 27000],\n",
              "       [16500, 30000],\n",
              "       [25000, 52000],\n",
              "       [30000, 80000]])"
            ]
          },
          "metadata": {},
          "execution_count": 9
        }
      ]
    },
    {
      "cell_type": "code",
      "source": [
        "plt.plot(X[:, 0], y,'b.')"
      ],
      "metadata": {
        "colab": {
          "base_uri": "https://localhost:8080/",
          "height": 447
        },
        "id": "MQQxe-VI-WMH",
        "outputId": "98ed35c8-f526-409a-ba78-da05f242f430"
      },
      "execution_count": 7,
      "outputs": [
        {
          "output_type": "execute_result",
          "data": {
            "text/plain": [
              "[<matplotlib.lines.Line2D at 0x7f8c3c205720>]"
            ]
          },
          "metadata": {},
          "execution_count": 7
        },
        {
          "output_type": "display_data",
          "data": {
            "text/plain": [
              "<Figure size 640x480 with 1 Axes>"
            ],
            "image/png": "[encoded data removed]"
          },
          "metadata": {}
        }
      ]
    },
    {
      "cell_type": "code",
      "source": [
        "def split_node(j, node):\n",
        "    for idx in range(len(node)):\n",
        "        if node[idx][0]>j:\n",
        "            return node[0:idx], node[idx:len(node)+1]"
      ],
      "metadata": {
        "id": "pKEeTcqOA5Ih"
      },
      "execution_count": 37,
      "outputs": []
    },
    {
      "cell_type": "code",
      "source": [
        "def get_mean_of_node(node):\n",
        "    return np.sum(node[:,1])/float(len(node))"
      ],
      "metadata": {
        "id": "3b8mNXinL-ue"
      },
      "execution_count": 38,
      "outputs": []
    },
    {
      "cell_type": "code",
      "source": [
        "def regression_criteria(node):\n",
        "    y_mean = get_mean_of_node(node)\n",
        "    criteria = np.sqrt(np.sum(list(map(lambda x: (y_mean-x)**2, node[:,1]))))\n",
        "    return criteria"
      ],
      "metadata": {
        "id": "3j7i3X-3EUtq"
      },
      "execution_count": 39,
      "outputs": []
    },
    {
      "cell_type": "code",
      "source": [
        "def quality(node1, node2):\n",
        "    len_ = float(len(node1) + len(node2))\n",
        "    return float(len(node1))/len_*regression_criteria(node1)+float(len(node2))/len_*regression_criteria(node2)"
      ],
      "metadata": {
        "id": "wKwUwHZyGTof"
      },
      "execution_count": 40,
      "outputs": []
    },
    {
      "cell_type": "code",
      "source": [
        "def find_best_split(node):\n",
        "    final_t = float('inf')\n",
        "    min_quality = float('inf')\n",
        "    for idx in range(len(node)-1):\n",
        "        t = (node[idx][0]+node[idx+1][0])/2\n",
        "        splited_node1, splited_node2 = split_node(t, node)\n",
        "        quality_ = quality(splited_node1, splited_node2)\n",
        "        if quality_<min_quality:\n",
        "            min_quality = quality_\n",
        "            final_t = t\n",
        "\n",
        "    return final_t"
      ],
      "metadata": {
        "id": "GXN5cnq5G7UF"
      },
      "execution_count": 41,
      "outputs": []
    },
    {
      "cell_type": "code",
      "source": [
        "def get_final_ts(input_node, n_depth, current_depth=0):\n",
        "    t = find_best_split(input_node)\n",
        "    if t!=float('inf'):\n",
        "        split1, split2 = split_node(t, input_node)\n",
        "        current_depth+=1\n",
        "        if current_depth<=n_depth:\n",
        "            return[t,get_final_ts(split1, n_depth, current_depth),get_final_ts(split2, n_depth, current_depth)]\n",
        "        else:\n",
        "            return [get_mean_of_node(input_node)]\n",
        "    else:\n",
        "        return [get_mean_of_node(input_node)]\n"
      ],
      "metadata": {
        "id": "69LpzJNaIlEf"
      },
      "execution_count": 78,
      "outputs": []
    },
    {
      "cell_type": "code",
      "source": [
        "def final_tree_fun(x, ts):\n",
        "    if len(ts)==1:\n",
        "        return ts[0]\n",
        "    if x<ts[0]:\n",
        "        return final_tree_fun(x, ts[1])\n",
        "    else:\n",
        "        return final_tree_fun(x, ts[2])"
      ],
      "metadata": {
        "id": "JrV8UOFzPkxL"
      },
      "execution_count": 79,
      "outputs": []
    },
    {
      "cell_type": "code",
      "source": [
        "plt.plot(X[:, 0], y,'b.')\n",
        "\n",
        "\n",
        "for i in range(4):\n",
        "    ts = get_final_ts(X_and_y, i)\n",
        "    x_range = np.arange(np.min(X[:, 0]),np.max(X[:, 0]), 0.1)\n",
        "    plt.plot(x_range, list(map(lambda x: final_tree_fun(x, ts), x_range)),'-', label=f'n_depth = {i}')\n",
        "plt.legend()"
      ],
      "metadata": {
        "colab": {
          "base_uri": "https://localhost:8080/",
          "height": 447
        },
        "id": "AfBRQEoOLnM5",
        "outputId": "ebfcb535-e911-41c0-b372-a4d06c6ee5a1"
      },
      "execution_count": 89,
      "outputs": [
        {
          "output_type": "execute_result",
          "data": {
            "text/plain": [
              "<matplotlib.legend.Legend at 0x7f8c39623c40>"
            ]
          },
          "metadata": {},
          "execution_count": 89
        },
        {
          "output_type": "display_data",
          "data": {
            "text/plain": [
              "<Figure size 640x480 with 1 Axes>"
            ],
            "image/png": "[encoded data removed]"
          },
          "metadata": {}
        }
      ]
    },
    {
      "cell_type": "code",
      "source": [],
      "metadata": {
        "id": "9mzqmQZKPs5H"
      },
      "execution_count": null,
      "outputs": []
    }
  ]
}